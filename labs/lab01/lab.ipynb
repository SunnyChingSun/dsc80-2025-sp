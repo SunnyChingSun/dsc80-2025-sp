{
 "cells": [
  {
   "cell_type": "code",
   "execution_count": 2,
   "metadata": {
    "deletable": false,
    "editable": false
   },
   "outputs": [],
   "source": [
    "# Initialize Otter\n",
    "import otter\n",
    "grader = otter.Notebook(\"lab.ipynb\")"
   ]
  },
  {
   "cell_type": "markdown",
   "metadata": {},
   "source": [
    "# Lab 1 – Python, NumPy, and Pandas\n",
    "\n",
    "## DSC 80, Spring 2025\n",
    "\n",
    "### Due Date: Wednesday, April 9th at 11:59PM"
   ]
  },
  {
   "cell_type": "markdown",
   "metadata": {},
   "source": [
    "## Instructions\n",
    "\n",
    "Welcome to the first assignment in DSC 80 this quarter!\n",
    "\n",
    "Much like in DSC 10, this Jupyter Notebook contains the statements of the problems and provides code and Markdown cells to display your answers to the problems. Unlike DSC 10, the notebook is *only* for displaying a readable version of your final answers. The coding will be done in an accompanying `lab.py` file that is imported into the current notebook, and **you will only submit that `lab.py` file**, not this notebook!\n",
    "\n",
    "Some additional guidelines:\n",
    "- **Unlike in DSC 10, labs will have both public tests and hidden tests.** The bulk of your grade will come from your scores on hidden tests, which you will only see on Gradescope after the assignment deadline.\n",
    "- **Do not change the function names in the `lab.py` file!** The functions in the `lab.py` file are how your assignment is graded, and they are graded by their name. If you changed something you weren't supposed to, you can find the original code in the [course GitHub repository](https://github.com/dsc-courses/dsc80-2025-wi).\n",
    "- Notebooks are nice for testing and experimenting with different implementations before designing your function in your `lab.py` file. You can write code here, but make sure that all of your real work is in the `lab.py` file, since that's all you're submitting.\n",
    "- You are encouraged to write your own additional helper functions to solve the lab, as long as they also end up in `lab.py`.\n",
    "\n",
    "**To ensure that all of the work you want to submit is in `lab.py`, we've included a script named `lab-validation.py` in the lab folder. You shouldn't edit it, but instead, you should call it from the command line (e.g. the Terminal) to test your work.** More details on its usage are given at the bottom of this notebook."
   ]
  },
  {
   "cell_type": "markdown",
   "metadata": {},
   "source": [
    "**Importing code from `lab.py`**:\n",
    "\n",
    "* Below, we import the `.py` file that's contained in the same directory as this notebook.\n",
    "* We use the `autoreload` notebook extension to make changes to our `lab.py` file immediately available in our notebook. Without this extension, we would need to restart the notebook kernel to see any changes to `lab.py` in the notebook.\n",
    "    - `autoreload` is necessary because, upon import, `lab.py` is compiled to bytecode (in the directory `__pycache__`). Subsequent imports of `lab` merely import the existing compiled python."
   ]
  },
  {
   "cell_type": "code",
   "execution_count": 3,
   "metadata": {},
   "outputs": [],
   "source": [
    "%load_ext autoreload\n",
    "%autoreload 2"
   ]
  },
  {
   "cell_type": "code",
   "execution_count": 4,
   "metadata": {},
   "outputs": [],
   "source": [
    "from lab import *"
   ]
  },
  {
   "cell_type": "code",
   "execution_count": 5,
   "metadata": {},
   "outputs": [],
   "source": [
    "from pathlib import Path\n",
    "import io\n",
    "import pandas as pd\n",
    "import numpy as np"
   ]
  },
  {
   "cell_type": "markdown",
   "metadata": {},
   "source": [
    "### Infrastructure Summary\n",
    "\n",
    "Run the following cell to see a [video 🎥](https://www.loom.com/share/0ea254b85b2745e59322b5e5a8692e91?sid=b77c5c2d-0c24-40fb-8cfc-8574d49d9019) that summarizes the above information and walks you through how to\n",
    "- set up your programming environment (see the instructions in [Tech Support](https://dsc80.com/tech_support) for more details),\n",
    "- access assignments,\n",
    "- work on and test assignments, and\n",
    "- submit assignments.\n",
    "\n",
    "The video is also linked on the [Resources tab of the course website](https://dsc80.com/resources)."
   ]
  },
  {
   "cell_type": "code",
   "execution_count": 6,
   "metadata": {},
   "outputs": [
    {
     "data": {
      "text/html": [
       "\n",
       "        <iframe\n",
       "            width=\"750\"\n",
       "            height=\"500\"\n",
       "            src=\"https://www.loom.com/embed/0ea254b85b2745e59322b5e5a8692e91\"\n",
       "            frameborder=\"0\"\n",
       "            allowfullscreen\n",
       "            \n",
       "        ></iframe>\n",
       "        "
      ],
      "text/plain": [
       "<IPython.lib.display.IFrame at 0x1174afe00>"
      ]
     },
     "execution_count": 6,
     "metadata": {},
     "output_type": "execute_result"
    }
   ],
   "source": [
    "from IPython.display import IFrame\n",
    "IFrame(src=\"https://www.loom.com/embed/0ea254b85b2745e59322b5e5a8692e91\", width=750, height=500)"
   ]
  },
  {
   "cell_type": "markdown",
   "metadata": {},
   "source": [
    "Let's get started! 🎉"
   ]
  },
  {
   "cell_type": "markdown",
   "metadata": {},
   "source": [
    "## Part 1: Python Basics 🐍"
   ]
  },
  {
   "cell_type": "markdown",
   "metadata": {},
   "source": [
    "### Question 0 – Consecutive Integers\n",
    "\n",
    "Complete the implementation of the function `consecutive_ints`, which takes in a possibly empty list of integers (`ints`) and returns `True` if there exist two adjacent list elements that are consecutive integers and `False` otherwise.\n",
    "\n",
    "For example, since `9` is next to `8`, `consecutive_ints([5, 3, 6, 4, 9, 8])` should evaluate to `True`, since `9` and `8` are consecutive integers. On the other hand, `consecutive_ints([1, 3, 5, 7, 9])` should evaluate to `False`.\n",
    "\n",
    "***Note***: If you look at `lab.py`, you'll notice that the solution to this problem is already there. This question is done for you to show you what a completed homework problem looks like."
   ]
  },
  {
   "cell_type": "code",
   "execution_count": 7,
   "metadata": {
    "tags": []
   },
   "outputs": [],
   "source": [
    "# The cells below are here for you to write scratch work in. \n",
    "# You should write the code for your answer in `lab.py`, not here."
   ]
  },
  {
   "cell_type": "code",
   "execution_count": 8,
   "metadata": {
    "tags": []
   },
   "outputs": [],
   "source": [
    "def consecutive_ints(ints):\n",
    "    for i in np.arange(len(ints)-1):\n",
    "        if abs(ints[i+1]-ints[i]) == 1:\n",
    "            return True\n",
    "    return False"
   ]
  },
  {
   "cell_type": "code",
   "execution_count": 9,
   "metadata": {
    "tags": []
   },
   "outputs": [
    {
     "data": {
      "text/plain": [
       "False"
      ]
     },
     "execution_count": 9,
     "metadata": {},
     "output_type": "execute_result"
    }
   ],
   "source": [
    "consecutive_ints([5, 3, 6, 4, 9, 8])\n",
    "consecutive_ints([])"
   ]
  },
  {
   "cell_type": "markdown",
   "metadata": {},
   "source": [
    "To run the public tests on your code for a given question, run the cell containing a call to `grader.check` that immediately follows it. \n",
    "\n",
    "Remember, your grade will primarily be determined by hidden tests, which are **not** run when you run `grader.check`, so it's important to extensively test your functions on your own by calling them on different inputs. Does they work for edge cases? Real-world data is **very messy** and you should expect your data processing code to break without thorough testing!\n",
    "\n",
    "You can write custom tests either by calling your functions on different inputs here in the notebook, or by writing doctests in `lab.py`, as you did in DSC 20."
   ]
  },
  {
   "cell_type": "code",
   "execution_count": 10,
   "metadata": {
    "deletable": false,
    "editable": false
   },
   "outputs": [
    {
     "data": {
      "text/html": [
       "<p><strong><pre style='display: inline;'>q0</pre></strong> passed!</p>"
      ],
      "text/plain": [
       "q0 results: All test cases passed!"
      ]
     },
     "execution_count": 10,
     "metadata": {},
     "output_type": "execute_result"
    }
   ],
   "source": [
    "grader.check(\"q0\")"
   ]
  },
  {
   "cell_type": "markdown",
   "metadata": {},
   "source": [
    "### Question 1 – Median vs. Mean\n",
    "\n",
    "Complete the implementation of the function `median_vs_mean`, which takes in a non-empty list of numbers (`nums`) and returns `True` if median of the list is less than or equal to the mean of the list and `False` otherwise.\n",
    "\n",
    "Recall, if a list has even length, the median is the mean of the middle two elements.\n",
    "\n",
    "***Note:*** In this question, you may only use built-in functions and methods in Python. You should not use `numpy` or `pandas` at all, nor should you import any additional packages."
   ]
  },
  {
   "cell_type": "code",
   "execution_count": 11,
   "metadata": {
    "tags": []
   },
   "outputs": [],
   "source": [
    "def median_vs_mean(nums):\n",
    "    nums = sorted(nums) # sort list\n",
    "    \n",
    "    count = len(nums)\n",
    "    mean = sum(nums)/count # Calculate the mean\n",
    "\n",
    "    mid = count // 2 # find middle index\n",
    "    if count % 2 == 0: # If even, take the average of the middle two numbers\n",
    "        median = (nums[mid] + nums[mid-1]) / 2\n",
    "    else: # If odd, the median is the middle element\n",
    "        median = nums[mid]\n",
    "    return median <= mean # Return True if median <= mean, otherwise False\n",
    "    "
   ]
  },
  {
   "cell_type": "code",
   "execution_count": 69,
   "metadata": {
    "tags": []
   },
   "outputs": [
    {
     "name": "stdout",
     "output_type": "stream",
     "text": [
      "✅ All tests passed!\n"
     ]
    }
   ],
   "source": [
    "# Test 1: Odd length, median < mean\n",
    "assert median_vs_mean([1, 2, 3, 4, 100]) == True  # median=3, mean=22\n",
    "\n",
    "# Test 2: Odd length, median == mean\n",
    "assert median_vs_mean([1, 3, 2]) == True  # median=2, mean=2\n",
    "\n",
    "# Test 3: Odd length, median > mean\n",
    "assert median_vs_mean([1, 60, 100]) == False  # median=60, mean≈54\n",
    "\n",
    "# Test 4: Even length, median < mean\n",
    "assert median_vs_mean([1, 2, 3, 100]) == True  # median=2.5, mean=26.5\n",
    "\n",
    "# Test 5: Even length, median == mean\n",
    "assert median_vs_mean([1, 2, 2, 3]) == True  # median=2, mean=2\n",
    "\n",
    "# Test 6: Even length, median > mean\n",
    "assert median_vs_mean([1, 50, 60, 100]) == False  # median=55, mean=52.75\n",
    "\n",
    "# Test 7: All same values\n",
    "assert median_vs_mean([5, 5, 5, 5, 5]) == True  # median=5, mean=5\n",
    "\n",
    "# Test 8: Only one number\n",
    "assert median_vs_mean([7]) == True  # median=7, mean=7\n",
    "\n",
    "# Test 9: Negative numbers where median < mean\n",
    "assert median_vs_mean([-10, -5, 0]) == True  # median=-5, mean≈-5\n",
    "\n",
    "# Test 10: Negative numbers where median > mean\n",
    "assert median_vs_mean([-2, -10, 0]) == False  # median=-2, mean=-4\n",
    "\n",
    "print(\"✅ All tests passed!\")\n"
   ]
  },
  {
   "cell_type": "code",
   "execution_count": 70,
   "metadata": {
    "deletable": false,
    "editable": false
   },
   "outputs": [
    {
     "data": {
      "text/html": [
       "<p><strong><pre style='display: inline;'>q1</pre></strong> passed!</p>"
      ],
      "text/plain": [
       "q1 results: All test cases passed!"
      ]
     },
     "execution_count": 70,
     "metadata": {},
     "output_type": "execute_result"
    }
   ],
   "source": [
    "grader.check(\"q1\")"
   ]
  },
  {
   "cell_type": "markdown",
   "metadata": {},
   "source": [
    "## Part 2: Strings and Files 🧵\n",
    "\n",
    "The following questions will familiarize you with the basics of working with strings and reading data from files. Remember that by default, data from files are stored as strings in Python."
   ]
  },
  {
   "cell_type": "markdown",
   "metadata": {},
   "source": [
    "### Question 2 – $n$ Prefixes\n",
    "\n",
    "Complete the implementation of the function `n_prefixes`, which takes a string `s` and a positive integer `n`. It returns a string containing the first `n` consecutive prefixes of `s` in reverse order.\n",
    "\n",
    "For example, let's suppose `s` is the string `'Billy!'` and `n` is `4`. The consecutive prefixes of `'Billy!'` are:\n",
    "- `'B'`\n",
    "- `'Bi'`\n",
    "- `'Bil'`\n",
    "- `'Bill'`\n",
    "- `'Billy'`\n",
    "- `'Billy!'`\n",
    "\n",
    "The first 4 of these are `'B'`, `'Bi'`, `'Bil'`, and `'Bill'`. If we combine these 4 in reverse order, we get `'BillBilBiB'`, which is what `n_prefixes('Billy!', 4)` should return. As another example, `n_prefixes('Marina', 3)` should return `'MarMaM'`. **You may assume that `n` is no larger than the length of `s`.**\n",
    "\n",
    "***Hint:*** Recall that [strings may be sliced](https://docs.python.org/3/tutorial/introduction.html#strings), like lists."
   ]
  },
  {
   "cell_type": "code",
   "execution_count": 71,
   "metadata": {
    "tags": []
   },
   "outputs": [],
   "source": [
    "def n_prefixes(s, n):\n",
    "    result = ''\n",
    "    for i in range(1, n + 1):\n",
    "        result = s[:i] + result\n",
    "    return result"
   ]
  },
  {
   "cell_type": "code",
   "execution_count": 72,
   "metadata": {
    "tags": []
   },
   "outputs": [
    {
     "name": "stdout",
     "output_type": "stream",
     "text": [
      "✅ All n_prefixes tests passed!\n"
     ]
    }
   ],
   "source": [
    "# Test 1: Normal case\n",
    "assert n_prefixes(\"Billy!\", 4) == \"BillBilBiB\"\n",
    "\n",
    "# Test 2: Exact length (n = len(s))\n",
    "assert n_prefixes(\"Code\", 4) == \"CodeCodCoC\"\n",
    "\n",
    "# Test 3: Minimum n = 1\n",
    "assert n_prefixes(\"Sunny\", 1) == \"S\"\n",
    "\n",
    "# Test 4: Middle slice\n",
    "assert n_prefixes(\"Marina\", 3) == \"MarMaM\"\n",
    "\n",
    "# Test 5: All characters same\n",
    "assert n_prefixes(\"aaa\", 2) == \"aaa\"  # prefixes: \"a\", \"aa\" → reverse: \"aa\", \"a\"\n",
    "\n",
    "# Test 6: Long string with short n\n",
    "assert n_prefixes(\"DataScience\", 2) == \"DaD\"\n",
    "\n",
    "# Test 7: n = length 2, different characters\n",
    "assert n_prefixes(\"Go\", 2) == \"GoG\"\n",
    "\n",
    "# Test 8: Weird characters (symbols)\n",
    "assert n_prefixes(\"#$%&*\", 3) == \"#$%#$#\"\n",
    "\n",
    "# Test 9: Numeric characters\n",
    "assert n_prefixes(\"12345\", 3) == \"123121\"\n",
    "\n",
    "# Test 10: Single character string, n = 1\n",
    "assert n_prefixes(\"Z\", 1) == \"Z\"\n",
    "\n",
    "print(\"✅ All n_prefixes tests passed!\")"
   ]
  },
  {
   "cell_type": "code",
   "execution_count": 16,
   "metadata": {
    "deletable": false,
    "editable": false
   },
   "outputs": [
    {
     "data": {
      "text/html": [
       "<p><strong><pre style='display: inline;'>q2</pre></strong> passed!</p>"
      ],
      "text/plain": [
       "q2 results: All test cases passed!"
      ]
     },
     "execution_count": 16,
     "metadata": {},
     "output_type": "execute_result"
    }
   ],
   "source": [
    "grader.check(\"q2\")"
   ]
  },
  {
   "cell_type": "markdown",
   "metadata": {},
   "source": [
    "### Question 3 – Exploded Numbers 💣\n",
    "\n",
    "Complete the implementation of the function `exploded_numbers`, which takes in a list of integers (`ints`) and a non-negative integer (`n`) and **returns a list of strings** containing numbers from the list expanded by `n` numbers in both directions, separated by spaces. Each integer should be [zero padded](https://www.tutorialspoint.com/python/string_zfill.htm) so that all integers outputted have the same length.\n",
    "\n",
    "For example, consider `exploded_numbers([3, 8, 15], 2)`.\n",
    "- If we explode 3 by 2 numbers in both directions, we get 1, 2, 3, 4, 5.\n",
    "- If we explode 8 by 2 numbers in both directions, we get 6, 7, 8, 9, 10.\n",
    "- If we explode 15 by 2 numbers in both directions, we get 13, 14, 15, 16, 17.\n",
    "\n",
    "The longest length of any of the exploded numbers above is 2, so all of the outputted integers should have length 2.\n",
    "\n",
    "- The string corresponding to 3 in the input is `'01 02 03 04 05'`.\n",
    "- The string corresponding to 8 in the input is `'06 07 08 09 10'`.\n",
    "- The string corresponding to 15 in the input is `'13 14 15 16 17'`.\n",
    "\n",
    "So, `exploded_numbers([3, 8, 15], 2)` should return `['01 02 03 04 05', '06 07 08 09 10', '13 14 15 16 17']`. \n",
    "\n",
    "As another example, `exploded_numbers([9, 99], 3)` should return `['006 007 008 009 010 011 012', '096 097 098 099 100 101 102']`.\n",
    "\n",
    "***Note***: You can assume that negative numbers will never be encountered. That is, when testing your code, we will never explode a number so much that it becomes negative."
   ]
  },
  {
   "cell_type": "code",
   "execution_count": 73,
   "metadata": {
    "tags": []
   },
   "outputs": [],
   "source": [
    "def exploded_numbers(ints, n):\n",
    "    lst = []\n",
    "    if len(ints) == 0:\n",
    "        return lst\n",
    "    \n",
    "    int_len = len(str(max(ints)+n))\n",
    "    for num in ints:\n",
    "        exploded = [f\"{i:0{int_len}d}\" for i in range(num-n, num+n+1)]\n",
    "        lst.append(\" \".join(exploded))\n",
    "            \n",
    "    return lst"
   ]
  },
  {
   "cell_type": "code",
   "execution_count": 77,
   "metadata": {
    "tags": []
   },
   "outputs": [
    {
     "name": "stdout",
     "output_type": "stream",
     "text": [
      "✅ All exploded_numbers tests passed!\n"
     ]
    }
   ],
   "source": [
    "# Test 1: Standard case\n",
    "assert exploded_numbers([3, 8, 15], 2) == [\n",
    "    '01 02 03 04 05',\n",
    "    '06 07 08 09 10',\n",
    "    '13 14 15 16 17'\n",
    "]\n",
    "\n",
    "# Test 2: Larger digits\n",
    "assert exploded_numbers([9, 99], 3) == [\n",
    "    '006 007 008 009 010 011 012',\n",
    "    '096 097 098 099 100 101 102'\n",
    "]\n",
    "\n",
    "# Test 3: Zero explosion\n",
    "assert exploded_numbers([1, 20, 300], 0) == [\n",
    "    '001', '020', '300'\n",
    "]\n",
    "\n",
    "# Test 4: One number only\n",
    "assert exploded_numbers([5], 2) == ['3 4 5 6 7']\n",
    "\n",
    "# Test 5: All same numbers\n",
    "assert exploded_numbers([7, 7], 1) == ['6 7 8', '6 7 8']\n",
    "\n",
    "# Test 6: Single-digit input, large explosion\n",
    "assert exploded_numbers([4], 5) == ['-1 0 1 2 3 4 5 6 7 8 9']  # note: would be invalid if negative allowed, but valid per note\n",
    "\n",
    "# Test 7: No numbers\n",
    "assert exploded_numbers([], 3) == []\n",
    "\n",
    "# Test 8: Mixed small and large numbers\n",
    "assert exploded_numbers([2, 12, 123], 1) == [\n",
    "    '001 002 003', '011 012 013', '122 123 124'\n",
    "]\n",
    "\n",
    "# Test 9: n = 1, input spans powers of 10\n",
    "assert exploded_numbers([9, 10, 99, 100], 1) == [\n",
    "    '008 009 010', '009 010 011', '098 099 100', '099 100 101'\n",
    "]\n",
    "\n",
    "# Test 10: n = 0, varying digit lengths\n",
    "assert exploded_numbers([7, 77, 777], 0) == ['007', '077', '777']\n",
    "\n",
    "print(\"✅ All exploded_numbers tests passed!\")\n"
   ]
  },
  {
   "cell_type": "code",
   "execution_count": 19,
   "metadata": {
    "deletable": false,
    "editable": false
   },
   "outputs": [
    {
     "data": {
      "text/html": [
       "<p><strong><pre style='display: inline;'>q3</pre></strong> passed!</p>"
      ],
      "text/plain": [
       "q3 results: All test cases passed!"
      ]
     },
     "execution_count": 19,
     "metadata": {},
     "output_type": "execute_result"
    }
   ],
   "source": [
    "grader.check(\"q3\")"
   ]
  },
  {
   "cell_type": "markdown",
   "metadata": {},
   "source": [
    "### Question 4 – Reading Files\n",
    "\n",
    "[Recall](https://docs.python.org/3/tutorial/inputoutput.html#reading-and-writing-files) that the built-in function `open` takes in a file path and returns *a file object* (sometimes called a *file handle*). Below are a few properties of file objects:\n",
    "\n",
    "* `open(path)` opens the file at location `path` for reading.\n",
    "* `open(path)` is an *iterable*, which contains successive lines of the file.\n",
    "* Once a file object is opened, after use it should be closed to avoid memory leaks. To ensure a file is closed once done, you should use a *context manager* as follows:\n",
    "```py\n",
    "with open(path) as fh:\n",
    "    for line in fh:\n",
    "        process_line(line)\n",
    "```\n",
    "* To read the entire file into a string, use the `read` method:\n",
    "```py\n",
    "with open(path) as fh:\n",
    "    s = fh.read()\n",
    "```\n",
    "\n",
    "However, you should be careful when reading an entire file into memory that the file isn't too big! *You should avoid this whenever possible!*\n",
    "\n",
    "Complete the implementation of the function `last_chars`, which takes in file object (`fh`) and returns a string consisting of the last character of each line. Note that you don't have to use `open` at all; the argument given to you is a file object, not a file path.\n",
    "\n",
    "***Note:*** A newline (`'\\n'`) is the \"delimiter\" of the lines of a file, and doesn't count as part of the line (as the tests imply). Every other character is part of the line. For more info on this, see [the interpretation](https://en.wikipedia.org/wiki/Newline#Interpretation) of files as a 'newline delimited variables' file."
   ]
  },
  {
   "cell_type": "code",
   "execution_count": 78,
   "metadata": {
    "tags": []
   },
   "outputs": [],
   "source": [
    "def last_chars(fh):\n",
    "    result = ''\n",
    "    for line in fh:\n",
    "        line = line.rstrip('\\n')\n",
    "        if line:\n",
    "            result += line[-1]\n",
    "    return result"
   ]
  },
  {
   "cell_type": "code",
   "execution_count": 80,
   "metadata": {
    "tags": []
   },
   "outputs": [
    {
     "name": "stdout",
     "output_type": "stream",
     "text": [
      "✅ All last_chars tests passed!\n"
     ]
    }
   ],
   "source": [
    "from io import StringIO\n",
    "\n",
    "# Helper to simulate a file object\n",
    "def make_file(content):\n",
    "    return StringIO(content)\n",
    "\n",
    "# Test 1: Regular lines\n",
    "fh = make_file(\"Hello\\nWorld\\nPython\\n\")\n",
    "assert last_chars(fh) == \"odn\"\n",
    "\n",
    "# Test 2: Empty file\n",
    "fh = make_file(\"\")\n",
    "assert last_chars(fh) == \"\"\n",
    "\n",
    "# Test 3: File with some empty lines\n",
    "fh = make_file(\"Hi\\n\\nThere\\n\\n!\\n\")\n",
    "assert last_chars(fh) == \"ie!\"\n",
    "\n",
    "# Test 4: File with one line, no newline\n",
    "fh = make_file(\"SingleLine\")\n",
    "assert last_chars(fh) == \"e\"\n",
    "\n",
    "# Test 5: File with one line, with newline\n",
    "fh = make_file(\"OneLine\\n\")\n",
    "assert last_chars(fh) == \"e\"\n",
    "\n",
    "# Test 6: Lines with punctuation\n",
    "fh = make_file(\"Hi?\\nCool!\\nYes.\\n\")\n",
    "assert last_chars(fh) == \"?!.\"\n",
    "\n",
    "# Test 7: Numbers in lines\n",
    "fh = make_file(\"123\\n4567\\n89\\n\")\n",
    "assert last_chars(fh) == \"379\"\n",
    "\n",
    "# Test 8: Lines with whitespace at the end\n",
    "fh = make_file(\"Ends with space \\nTab\\t\\n\")\n",
    "assert last_chars(fh) == \" \\t\"\n",
    "\n",
    "print(\"✅ All last_chars tests passed!\")\n"
   ]
  },
  {
   "cell_type": "markdown",
   "metadata": {},
   "source": [
    "If your implementation is correct, you should see `'hrg'` when running the cell below:"
   ]
  },
  {
   "cell_type": "code",
   "execution_count": 21,
   "metadata": {},
   "outputs": [
    {
     "data": {
      "text/plain": [
       "'hrg'"
      ]
     },
     "execution_count": 21,
     "metadata": {},
     "output_type": "execute_result"
    }
   ],
   "source": [
    "# You'll see the Path(...) / syntax a lot.\n",
    "# It creates the correct path to your file, \n",
    "# whether you're using Windows, macOS, or Linux.\n",
    "# (Note that macOS and Linux use / to denote separate folders in paths,\n",
    "# while Windows uses \\.)\n",
    "\n",
    "fp = Path('data') / 'chars.txt'\n",
    "last_chars(open(fp))"
   ]
  },
  {
   "cell_type": "code",
   "execution_count": 22,
   "metadata": {
    "deletable": false,
    "editable": false
   },
   "outputs": [
    {
     "data": {
      "text/html": [
       "<p><strong><pre style='display: inline;'>q4</pre></strong> passed!</p>"
      ],
      "text/plain": [
       "q4 results: All test cases passed!"
      ]
     },
     "execution_count": 22,
     "metadata": {},
     "output_type": "execute_result"
    }
   ],
   "source": [
    "grader.check(\"q4\")"
   ]
  },
  {
   "cell_type": "markdown",
   "metadata": {},
   "source": [
    "## Part 3: `numpy` exercises 🥧\n",
    "\n",
    "For a refresher on `numpy` and arrays, refer to the relevant section of the [DSC 10 course notes](https://notes.dsc10.com/02-data_sets/arrays.html)."
   ]
  },
  {
   "cell_type": "markdown",
   "metadata": {},
   "source": [
    "### Question 5 – Array Methods\n",
    "\n",
    "Complete the implementations of the functions `add_root` and `where_square`. Specifications are given below. Your solutions should **not** contain any loops or list comprehensions.\n",
    "\n",
    "#### `add_root`\n",
    "\n",
    "`add_root` should take in a `numpy` array, `A`, and return a new `numpy` array that contains the element-wise sum of the elements in `A` with the _square roots of the positions of the elements in `A`_. \n",
    "\n",
    "For instance, if `A` contains the values 5, 9, and 4, the output array should contain the values 5 (5 + $\\sqrt{0}$), 10 (9 + $\\sqrt{1}$), and 5.4142... (4 + $\\sqrt{2}$).\n",
    "\n",
    "<br>\n",
    "\n",
    "#### `where_square`\n",
    "\n",
    "`where_square` should take in a `numpy` array, `A`, and return a new `numpy` array of Booleans whose `i`th element is `True` if and only if the `i`th element of `A` is a perfect square. \n",
    "\n",
    "For instance, `where_square(np.array([2, 9, 16, 15]))` should return `array([False, True, True, False])`."
   ]
  },
  {
   "cell_type": "code",
   "execution_count": 86,
   "metadata": {
    "tags": []
   },
   "outputs": [],
   "source": [
    "def add_root(A):\n",
    "    new_arr = A + np.sqrt(np.arange(len(A)))\n",
    "    return new_arr\n",
    "\n",
    "def where_square(A):\n",
    "    sqrt_arr = np.sqrt(A)\n",
    "    return sqrt_arr == np.floor(np.sqrt(A))\n"
   ]
  },
  {
   "cell_type": "code",
   "execution_count": 87,
   "metadata": {
    "tags": []
   },
   "outputs": [
    {
     "name": "stdout",
     "output_type": "stream",
     "text": [
      "✅ All add_root and where_square tests passed!\n"
     ]
    }
   ],
   "source": [
    "# --- add_root Tests ---\n",
    "\n",
    "# Test 1: Basic small array\n",
    "A = np.array([5, 9, 4])\n",
    "expected = np.array([5 + np.sqrt(0), 9 + np.sqrt(1), 4 + np.sqrt(2)])\n",
    "assert np.allclose(add_root(A), expected)\n",
    "\n",
    "# Test 2: Array of zeros\n",
    "A = np.zeros(5)\n",
    "expected = np.sqrt(np.arange(5))\n",
    "assert np.allclose(add_root(A), expected)\n",
    "\n",
    "# Test 3: Large array\n",
    "A = np.arange(10)\n",
    "expected = A + np.sqrt(np.arange(10))\n",
    "assert np.allclose(add_root(A), expected)\n",
    "\n",
    "# Test 4: Single element\n",
    "A = np.array([10])\n",
    "expected = np.array([10 + np.sqrt(0)])\n",
    "assert np.allclose(add_root(A), expected)\n",
    "\n",
    "# Test 5: Empty array\n",
    "A = np.array([])\n",
    "expected = np.array([])\n",
    "assert np.allclose(add_root(A), expected)\n",
    "\n",
    "# --- where_square Tests ---\n",
    "\n",
    "# Test 6: Some perfect squares\n",
    "A = np.array([1, 2, 4, 8, 9, 10])\n",
    "expected = np.array([True, False, True, False, True, False])\n",
    "assert np.array_equal(where_square(A), expected)\n",
    "\n",
    "# Test 7: All perfect squares\n",
    "A = np.array([0, 1, 4, 9, 16, 25])\n",
    "expected = np.array([True] * 6)\n",
    "assert np.array_equal(where_square(A), expected)\n",
    "\n",
    "# Test 8: No perfect squares\n",
    "A = np.array([2, 3, 5, 6, 7, 8])\n",
    "expected = np.array([False] * 6)\n",
    "assert np.array_equal(where_square(A), expected)\n",
    "\n",
    "# Test 9: Array with one non-square\n",
    "A = np.array([17])\n",
    "expected = np.array([False])\n",
    "assert np.array_equal(where_square(A), expected)\n",
    "\n",
    "# Test 10: Empty array\n",
    "A = np.array([])\n",
    "expected = np.array([])\n",
    "assert np.array_equal(where_square(A), expected)\n",
    "\n",
    "print(\"✅ All add_root and where_square tests passed!\")\n"
   ]
  },
  {
   "cell_type": "code",
   "execution_count": 88,
   "metadata": {},
   "outputs": [],
   "source": [
    "# Don't change this cell -- it is needed for the tests to work\n",
    "A_1 = np.array([2, 4, 6, 7])\n",
    "out_1 = add_root(A_1)\n",
    "\n",
    "A_2 = np.array([1, 2, 16, 17, 32, 49])\n",
    "out_2 = where_square(A_2)"
   ]
  },
  {
   "cell_type": "code",
   "execution_count": 89,
   "metadata": {
    "deletable": false,
    "editable": false
   },
   "outputs": [
    {
     "data": {
      "text/html": [
       "<p><strong><pre style='display: inline;'>q5</pre></strong> passed!</p>"
      ],
      "text/plain": [
       "q5 results: All test cases passed!"
      ]
     },
     "execution_count": 89,
     "metadata": {},
     "output_type": "execute_result"
    }
   ],
   "source": [
    "grader.check(\"q5\")"
   ]
  },
  {
   "cell_type": "markdown",
   "metadata": {},
   "source": [
    "### Question 6 - Filtering Matrices\n",
    "\n",
    "Complete the implementation for the function `filter_cutoff_loop` and `filter_cutoff_np`.\n",
    "\n",
    "#### Part 1: `filter_cutoff_loop`\n",
    "\n",
    "`filter_cutoff_loop` should take in a matrix (2-dimensional `numpy` array) and a `float` cutoff. The function should return a 2-dimensional `numpy` array with only coumns that have a column mean (strictly) greater than the cutoff value. **This function should be implemented with loops or list comprehensions, not using `numpy` or `pandas` operations.** For example, given the matrix: \n",
    "\n",
    "$$\n",
    "a = \\begin{bmatrix}\n",
    "    1 & -2 & 3 & -3 \\\\\n",
    "    0 & 1 & 3 & 6 \\\\\n",
    "\\end{bmatrix}\n",
    "$$\n",
    "The column means are computed as follows: \n",
    "$$\n",
    "\\begin{bmatrix}\n",
    "1\\\\\n",
    "0\n",
    "\\end{bmatrix} \n",
    "= \\frac{1+0}{2} = 0.5 \\text{, }\n",
    "\\begin{bmatrix}\n",
    "-2\\\\\n",
    "1\n",
    "\\end{bmatrix} \n",
    "= \\frac{-2+1}{2} = 0.5 \\text{, }\n",
    "\\begin{bmatrix}\n",
    "3\\\\\n",
    "3\n",
    "\\end{bmatrix} \n",
    "= \\frac{3+3}{2} = 3 \\text{, }\n",
    "\\begin{bmatrix}\n",
    "-3\\\\\n",
    "6\n",
    "\\end{bmatrix} \n",
    "= \\frac{-3+6}{2} = 1.5\n",
    "$$\n",
    "\n",
    "If the cutoff value is 1, only the last two columns have means above 1, thus only the last two columns are kept, as shown in the first example below. \n",
    "\n",
    "```py\n",
    ">>> a = np.array([[1,-2, 3,-3], [0, 1, 3, 6]])\n",
    ">>> filter_cutoff_loop(a, 1.0)\n",
    "# the column means are [0.1,-0.5, 3, 1.5]\n",
    "# only columns 3 & 4 have column means higher than 1\n",
    "# we only return columns 3 & 4\n",
    "array([[ 3, -3],\n",
    "       [ 3,  6]])\n",
    "```\n",
    "\n",
    "```py\n",
    ">>> a = np.array([[1,-2, 3,-3], [0, 1, 3, 6]])\n",
    ">>> filter_cutoff_loop(a, 2.0)\n",
    "# the column means are [0.1,-0.5, 3, 1.5]\n",
    "# only column 3 has a column mean higher than 2\n",
    "# we only return column 3\n",
    "array([[3],\n",
    "       [3]])\n",
    "```"
   ]
  },
  {
   "cell_type": "code",
   "execution_count": 27,
   "metadata": {
    "tags": []
   },
   "outputs": [],
   "source": [
    "def filter_cutoff_loop(matrix, cutoff):\n",
    "    num_rows = len(matrix)\n",
    "    num_cols = len(matrix[0])\n",
    "    filtered = []\n",
    "\n",
    "    for col in range(num_cols):\n",
    "        col_vals = [matrix[row][col] for row in range(num_rows)]\n",
    "        col_mean = sum(col_vals) / num_rows\n",
    "        if col_mean > cutoff:\n",
    "            filtered.append(col_vals)\n",
    "\n",
    "    result = [[col[i] for col in filtered] for i in range(num_rows)]\n",
    "    return np.array(result)\n",
    "\n"
   ]
  },
  {
   "cell_type": "code",
   "execution_count": 91,
   "metadata": {
    "deletable": false,
    "editable": false
   },
   "outputs": [
    {
     "data": {
      "text/html": [
       "<p><strong><pre style='display: inline;'>q6</pre></strong> passed!</p>"
      ],
      "text/plain": [
       "q6 results: All test cases passed!"
      ]
     },
     "execution_count": 91,
     "metadata": {},
     "output_type": "execute_result"
    }
   ],
   "source": [
    "grader.check(\"q6\")"
   ]
  },
  {
   "cell_type": "markdown",
   "metadata": {},
   "source": [
    "### Question 6\n",
    "\n",
    "#### Part 2: `filter_cutoff_np`\n",
    "\n",
    "`filter_cutoff_np` should take in the same inputs and output the same results as  `filter_cutoff_loop`.  **Do not use loops or list comprehensions for this implementation, only `numpy` operations.**\n",
    "\n",
    "\n",
    "***Hints:***: \n",
    "- What does the axis argument do in `np.mean`?\n",
    "- Remember we can slice arrays using Boolean values. How does the code below work? \n",
    "```py\n",
    ">>> a = np.array([[1, 2, 3, 4], [5, 6, 7, 8]])\n",
    ">>> a[:, [True, False, True, False]]\n",
    "```\n"
   ]
  },
  {
   "cell_type": "code",
   "execution_count": 92,
   "metadata": {
    "tags": []
   },
   "outputs": [],
   "source": [
    "def filter_cutoff_np(matrix, cutoff):\n",
    "    col_means = np.mean(matrix, axis=0)\n",
    "    keep = col_means > cutoff\n",
    "    return matrix[:, keep]"
   ]
  },
  {
   "cell_type": "code",
   "execution_count": 93,
   "metadata": {
    "tags": []
   },
   "outputs": [
    {
     "name": "stdout",
     "output_type": "stream",
     "text": [
      "✅ All filter_cutoff_loop and filter_cutoff_np tests passed!\n"
     ]
    }
   ],
   "source": [
    "# Test 1: Provided example\n",
    "a = np.array([[1, -2, 3, -3], [0, 1, 3, 6]])\n",
    "assert np.array_equal(\n",
    "    filter_cutoff_loop(a, 1.0),\n",
    "    np.array([[3, -3], [3, 6]])\n",
    ")\n",
    "assert np.array_equal(\n",
    "    filter_cutoff_loop(a, 2.0),\n",
    "    np.array([[3], [3]])\n",
    ")\n",
    "assert np.array_equal(filter_cutoff_loop(a, 10), np.array([[], []]))\n",
    "assert np.array_equal(filter_cutoff_np(a, 1.0), np.array([[3, -3], [3, 6]]))\n",
    "assert np.array_equal(filter_cutoff_np(a, 2.0), np.array([[3], [3]]))\n",
    "\n",
    "# Test 2: All values below cutoff\n",
    "b = np.array([[0, 1], [0, 1]])\n",
    "assert np.array_equal(filter_cutoff_loop(b, 2), np.array([[], []]))\n",
    "assert np.array_equal(filter_cutoff_np(b, 2), np.array([[], []]))\n",
    "\n",
    "# Test 3: All values above cutoff\n",
    "c = np.array([[5, 6], [7, 8]])\n",
    "assert np.array_equal(filter_cutoff_loop(c, 4), c)\n",
    "assert np.array_equal(filter_cutoff_np(c, 4), c)\n",
    "\n",
    "# Test 4: One column barely over the cutoff\n",
    "d = np.array([[1, 5], [1, 6]])\n",
    "# Means: [1.0, 5.5]\n",
    "assert np.array_equal(filter_cutoff_loop(d, 5), np.array([[5], [6]]))\n",
    "assert np.array_equal(filter_cutoff_np(d, 5), np.array([[5], [6]]))\n",
    "\n",
    "# Test 5: One row (edge case)\n",
    "e = np.array([[2, 10, -5]])\n",
    "assert np.array_equal(filter_cutoff_loop(e, 5), np.array([[10]]))\n",
    "assert np.array_equal(filter_cutoff_np(e, 5), np.array([[10]]))\n",
    "\n",
    "# Test 6: One column (edge case)\n",
    "f = np.array([[1], [10], [5]])\n",
    "# mean = (1+10+5)/3 = 5.33\n",
    "assert np.array_equal(filter_cutoff_loop(f, 5), f)\n",
    "assert np.array_equal(filter_cutoff_np(f, 5), f)\n",
    "\n",
    "# Test 7: Empty array with shape (2, 0)\n",
    "g = np.empty((2, 0))\n",
    "assert filter_cutoff_loop(g, 1).shape == (2, 0)\n",
    "assert filter_cutoff_np(g, 1).shape == (2, 0)\n",
    "\n",
    "print(\"✅ All filter_cutoff_loop and filter_cutoff_np tests passed!\")\n"
   ]
  },
  {
   "cell_type": "code",
   "execution_count": 95,
   "metadata": {
    "deletable": false,
    "editable": false
   },
   "outputs": [
    {
     "data": {
      "text/html": [
       "<p><strong><pre style='display: inline;'>q6.2</pre></strong> passed!</p>"
      ],
      "text/plain": [
       "q6.2 results: All test cases passed!"
      ]
     },
     "execution_count": 95,
     "metadata": {},
     "output_type": "execute_result"
    }
   ],
   "source": [
    "grader.check(\"q6.2\")"
   ]
  },
  {
   "cell_type": "markdown",
   "metadata": {},
   "source": [
    "### Question 7 – Stock Prices 📈\n",
    "\n",
    "Complete the implementations of the functions `growth_rates` and `with_leftover`. Specifications are given below. Your solutions should **not** contain any loops or list comprehensions.\n",
    "\n",
    "#### `growth_rates`\n",
    "\n",
    "`growth_rates` should take in a `numpy` array, `A`, of [stock prices](https://en.wikipedia.org/wiki/Stock) for a single stock on successive days in USD. It should return an array of growth rates. That is, the `i`th number of the returned array should contain the rate of growth in stock price between the $i^{th}$ day to the $(i+1)^{th}$ day. The growth rate between two values is defined as $\\frac{\\text{final} - \\text{initial}}{\\text{initial}}$. You should return growth rates as **proportions, rounded to two decimal places**.\n",
    "\n",
    "<br>\n",
    "\n",
    "#### `with_leftover`\n",
    "\n",
    "Again, suppose `A` is a `numpy` array of stock prices. Consider the following scheme: \n",
    "\n",
    "- Suppose that you start each day with \\$20 to purchase stocks. \n",
    "- Each day, you purchase as many shares as possible of the stock. (The price changes each day, according to `A`.)\n",
    "- Any money left-over after a given day is saved for possibly buying stock on a future day.\n",
    "\n",
    "The function `with_leftover` should take in `A` and return the day (as an `int`) on which you can buy at least one full share using just \"left-over\" money. If this never happens, return `-1`. Note that the first stock purchase occurs on Day 0, and that you cannot purchase fractions of a share of a stock.\n",
    "\n",
    "For example, if the stock price is \\$3 every day, then the answer is `1` (corresponding to Day 1):\n",
    "- Day 0: Buy 6 stocks with \\\\$20, and \\\\$2 is added to the leftover. Your total leftover is currently \\\\$2. This is not enough to buy one extra share, so you continue.\n",
    "- Day 1: Buy 6 stocks with \\\\$20, and another \\\\$2 is added to the leftover. Your total leftover is now \\\\$4, so you can now buy one extra share. Hence, the answer is Day 1, and `with_leftover` should return `1`.\n",
    "\n",
    "***Hint:*** `np.cumsum` may be helpful."
   ]
  },
  {
   "cell_type": "code",
   "execution_count": 96,
   "metadata": {
    "tags": []
   },
   "outputs": [],
   "source": [
    "def growth_rates(A):\n",
    "    return np.round((A[1:] - A[:-1]) / A[:-1], 2)\n",
    "\n",
    "def with_leftover(A):\n",
    "    day = -1\n",
    "    can_buy = np.cumsum(20 % A) >= A\n",
    "    indices = np.where(can_buy)[0]\n",
    "    if len(indices)>0:\n",
    "        day = int(indices[0])\n",
    "    return day"
   ]
  },
  {
   "cell_type": "code",
   "execution_count": 97,
   "metadata": {
    "tags": []
   },
   "outputs": [
    {
     "name": "stdout",
     "output_type": "stream",
     "text": [
      "✅ All growth_rates and with_leftover tests passed!\n"
     ]
    }
   ],
   "source": [
    "# --- growth_rates tests ---\n",
    "\n",
    "# Test 1: Increasing prices\n",
    "A = np.array([10, 12, 15])\n",
    "expected = np.array([0.2, 0.25])\n",
    "assert np.allclose(growth_rates(A), expected)\n",
    "\n",
    "# Test 2: Decreasing prices\n",
    "A = np.array([10, 5, 2])\n",
    "expected = np.array([-0.5, -0.6])\n",
    "assert np.allclose(growth_rates(A), expected)\n",
    "\n",
    "# Test 3: Mixed prices\n",
    "A = np.array([10, 20, 10, 5])\n",
    "expected = np.array([1.0, -0.5, -0.5])\n",
    "assert np.allclose(growth_rates(A), expected)\n",
    "\n",
    "# Test 4: Flat prices\n",
    "A = np.array([5, 5, 5])\n",
    "expected = np.array([0.0, 0.0])\n",
    "assert np.allclose(growth_rates(A), expected)\n",
    "\n",
    "# Test 5: Length 2\n",
    "A = np.array([4, 6])\n",
    "expected = np.array([0.5])\n",
    "assert np.allclose(growth_rates(A), expected)\n",
    "\n",
    "# --- with_leftover tests ---\n",
    "\n",
    "# Test 6: Can buy on Day 1\n",
    "A = np.array([3, 3])\n",
    "assert with_leftover(A) == 1\n",
    "\n",
    "# Test 7: Never enough leftover\n",
    "A = np.array([20, 20, 20])\n",
    "assert with_leftover(A) == -1\n",
    "\n",
    "# Test 8: Buyable on Day 2\n",
    "A = np.array([6, 6, 6])\n",
    "# Each day: 3 shares, $2 leftover → day 2: $6 total\n",
    "assert with_leftover(A) == 2\n",
    "\n",
    "# Test 9: Float prices\n",
    "A = np.array([6.5, 6.5, 6.5, 6.5, 6.5])\n",
    "# leftover: 0.5 per day → reaches 2.5 on Day 4 → not enough\n",
    "assert with_leftover(A) == -1\n",
    "\n",
    "# Test 10: Exactly enough on Day 3\n",
    "A = np.array([5, 5, 5, 5])\n",
    "# Each day leftover: $0 → never enough\n",
    "assert with_leftover(A) == -1\n",
    "\n",
    "# Test 11: Can buy on Day 0 (trivial edge, prices = $1)\n",
    "A = np.array([1])\n",
    "# $20 leftover = 0, because you buy 20 shares — but leftover = 0\n",
    "assert with_leftover(A) == -1\n",
    "\n",
    "# Test 12: One element, not buyable\n",
    "A = np.array([9])\n",
    "assert with_leftover(A) == -1\n",
    "\n",
    "print(\"✅ All growth_rates and with_leftover tests passed!\")\n"
   ]
  },
  {
   "cell_type": "code",
   "execution_count": 99,
   "metadata": {},
   "outputs": [],
   "source": [
    "# Don't change this cell -- it is needed for the tests to work\n",
    "fp = Path('data') / 'stocks.csv'\n",
    "stocks = np.array([float(x) for x in open(fp)])\n",
    "out_3_stocks = growth_rates(stocks)\n",
    "\n",
    "A_4 = np.array([3, 3, 3, 3])\n",
    "out_4 = with_leftover(A_4)"
   ]
  },
  {
   "cell_type": "code",
   "execution_count": 100,
   "metadata": {
    "deletable": false,
    "editable": false
   },
   "outputs": [
    {
     "data": {
      "text/html": [
       "<p><strong><pre style='display: inline;'>q7</pre></strong> passed!</p>"
      ],
      "text/plain": [
       "q7 results: All test cases passed!"
      ]
     },
     "execution_count": 100,
     "metadata": {},
     "output_type": "execute_result"
    }
   ],
   "source": [
    "grader.check(\"q7\")"
   ]
  },
  {
   "cell_type": "markdown",
   "metadata": {},
   "source": [
    "## Part 4: Introduction to `pandas` 🐼\n",
    "\n",
    "This part will help build familiarity with DataFrames in `pandas`. Fortunately, you've already a version of `pandas` before in DSC 10, called `babypandas`! Review the [DSC 10 course notes](https://notes.dsc10.com/02-data_sets/dataframes.html) as necessary.\n",
    "\n",
    "One key difference between `babypandas` and `pandas` is the idiomatic way of accessing a column. In `babypandas`, to access column `'x'` in DataFrame `df`, you used `df.get('x')`. In `pandas`, the more common way is `df['x']`.\n",
    "\n",
    "As always for `pandas` questions:\n",
    "1. Avoid writing loops through the rows of the DataFrame to do the problem, and\n",
    "2. Test the output/correctness of your code with the help of the dataset given, but be sure your code will also run on data that is similar to but different from the dataset given. (One way to do this is to sample rows from the provided DataFrame using the `.sample` method)."
   ]
  },
  {
   "cell_type": "markdown",
   "metadata": {},
   "source": [
    "The file `data/salary.csv` contains salary information for the 2021-22 National Basketball Association (NBA) season 🏀. Specifically, it contains the name, team, and salary of all players who have played at least 15 games last season. We will load this file and store it as a DataFrame named `salary`."
   ]
  },
  {
   "cell_type": "code",
   "execution_count": 101,
   "metadata": {},
   "outputs": [
    {
     "data": {
      "text/html": [
       "<div>\n",
       "<style scoped>\n",
       "    .dataframe tbody tr th:only-of-type {\n",
       "        vertical-align: middle;\n",
       "    }\n",
       "\n",
       "    .dataframe tbody tr th {\n",
       "        vertical-align: top;\n",
       "    }\n",
       "\n",
       "    .dataframe thead th {\n",
       "        text-align: right;\n",
       "    }\n",
       "</style>\n",
       "<table border=\"1\" class=\"dataframe\">\n",
       "  <thead>\n",
       "    <tr style=\"text-align: right;\">\n",
       "      <th></th>\n",
       "      <th>Player</th>\n",
       "      <th>Position</th>\n",
       "      <th>Team</th>\n",
       "      <th>Salary</th>\n",
       "    </tr>\n",
       "  </thead>\n",
       "  <tbody>\n",
       "    <tr>\n",
       "      <th>0</th>\n",
       "      <td>John Collins</td>\n",
       "      <td>PF</td>\n",
       "      <td>Atlanta Hawks</td>\n",
       "      <td>23000000</td>\n",
       "    </tr>\n",
       "    <tr>\n",
       "      <th>1</th>\n",
       "      <td>Danilo Gallinari</td>\n",
       "      <td>PF</td>\n",
       "      <td>Atlanta Hawks</td>\n",
       "      <td>20475000</td>\n",
       "    </tr>\n",
       "    <tr>\n",
       "      <th>2</th>\n",
       "      <td>Bogdan Bogdanović</td>\n",
       "      <td>SG</td>\n",
       "      <td>Atlanta Hawks</td>\n",
       "      <td>18000000</td>\n",
       "    </tr>\n",
       "    <tr>\n",
       "      <th>3</th>\n",
       "      <td>Clint Capela</td>\n",
       "      <td>C</td>\n",
       "      <td>Atlanta Hawks</td>\n",
       "      <td>17103448</td>\n",
       "    </tr>\n",
       "    <tr>\n",
       "      <th>4</th>\n",
       "      <td>Delon Wright</td>\n",
       "      <td>SG</td>\n",
       "      <td>Atlanta Hawks</td>\n",
       "      <td>8526316</td>\n",
       "    </tr>\n",
       "  </tbody>\n",
       "</table>\n",
       "</div>"
      ],
      "text/plain": [
       "              Player Position           Team    Salary\n",
       "0       John Collins       PF  Atlanta Hawks  23000000\n",
       "1   Danilo Gallinari       PF  Atlanta Hawks  20475000\n",
       "2  Bogdan Bogdanović       SG  Atlanta Hawks  18000000\n",
       "3       Clint Capela        C  Atlanta Hawks  17103448\n",
       "4       Delon Wright       SG  Atlanta Hawks   8526316"
      ]
     },
     "execution_count": 101,
     "metadata": {},
     "output_type": "execute_result"
    }
   ],
   "source": [
    "# Do not edit this cell -- it is needed for the tests\n",
    "salary_fp = Path('data') / 'salary.csv'\n",
    "salary = pd.read_csv(salary_fp)\n",
    "salary.head()"
   ]
  },
  {
   "cell_type": "markdown",
   "metadata": {},
   "source": [
    "### Question 8 – `pandas` Basics\n",
    "\n",
    "Your job is to complete the implementation of the function `salary_stats`, which takes in a DataFrame like `salary` and returns a **Series** containing the following statistics:\n",
    "- `'num_players'`: The number of players.\n",
    "- `'num_teams'`: The number of teams.\n",
    "- `'total_salary'`: The total salary amount for all players.\n",
    "- `'highest_salary'`: The name of the player with the highest salary. **Assume there are no ties.**\n",
    "- `'avg_los'`: The average salary of the `'Los Angeles Lakers'`, rounded to two decimal places.\n",
    "- `'fifth_lowest'`: The name and team of the player who has the fifth lowest salary, separated by a comma and a space (e.g. `'Billy Triton, Cleveland Cavaliers'`). **Assume there are no ties.**\n",
    "- `'duplicates'`: A Boolean that is `True` if there are any duplicate last names, and `False` otherwise. Note that some players may have a suffix on their name, such as \"Jr.\" or \"III\" -- you should ignore these. That is, \"Billy Triton Jr.\" and \"Tyler Triton\" should be considered to have the same last name.\n",
    "- `'total_highest'`: The total salary of the team that has the highest paid player.\n",
    "\n",
    "The index of each element in the outputted Series is specified above.\n",
    "\n",
    "***Notes***: \n",
    "- Your function should work on a dataset of the same format that contains information from other years. This means that `salary_stats` should not \"hard-code\" any numbers or strings, but should compute them all programatically. In all cases, you may assume that none of the answers involving ranking involves a tie.\n",
    "- The public tests don't test to see if your function actually returns the right numbers. You should manually inspect your result to make sure that all values seem appropriate."
   ]
  },
  {
   "cell_type": "code",
   "execution_count": 118,
   "metadata": {
    "tags": []
   },
   "outputs": [],
   "source": [
    "def salary_stats(salary):\n",
    "    # number of players\n",
    "    num_players = len(salary) \n",
    "\n",
    "    # number of teams\n",
    "    num_teams = salary['Team'].nunique() \n",
    "\n",
    "    # total salary amount for all players\n",
    "    total_salary = salary['Salary'].sum() \n",
    "\n",
    "    # name of the player with the highest salary\n",
    "    highest_salary = salary.loc[salary['Salary'].idxmax(), 'Player'] \n",
    "\n",
    "    # average salary of the 'Los Angeles Lakers', rounded to two decimal places\n",
    "    avg_los = round(salary[salary['Team'] == 'Los Angeles Lakers']['Salary'].mean(), 2)\n",
    "\n",
    "    # name and team of the player who has the fifth lowest salary, e.g 'Andy J, Lakers'\n",
    "    fifth_lowest_row = salary.sort_values(by='Salary').iloc[4]\n",
    "    fifth_lowest = f\"{fifth_lowest_row['Player']}, {fifth_lowest_row['Team']}\"\n",
    "\n",
    "    # boolean if any duplicate last name, ignore suffix\n",
    "    def clean_name(name):\n",
    "        parts = name.split()\n",
    "        if parts[-1] in ['Jr.', 'Sr.', 'II', 'III', 'IV']:\n",
    "            return parts[-2]\n",
    "        else:\n",
    "            return parts[-1]\n",
    "    last_names = salary['Player'].apply(clean_name)\n",
    "    duplicates = last_names.duplicated().any()\n",
    "\n",
    "    # total salary of the team that has highest_salary\n",
    "    highest_paid_team = salary.loc[salary['Salary'].idxmax(), 'Team']\n",
    "    total_highest = salary[salary['Team'] == highest_paid_team]['Salary'].sum()\n",
    "\n",
    "    #return as a Series\n",
    "    return pd.Series({\n",
    "        'num_players': num_players,\n",
    "        'num_teams': num_teams,\n",
    "        'total_salary': total_salary,\n",
    "        'highest_salary': highest_salary,\n",
    "        'avg_los': avg_los,\n",
    "        'fifth_lowest': fifth_lowest,\n",
    "        'duplicates': duplicates,\n",
    "        'total_highest': total_highest\n",
    "    })\n"
   ]
  },
  {
   "cell_type": "code",
   "execution_count": 105,
   "metadata": {
    "tags": []
   },
   "outputs": [
    {
     "data": {
      "text/plain": [
       "num_players                                   381\n",
       "num_teams                                      30\n",
       "total_salary                           3433118794\n",
       "highest_salary                      Stephen Curry\n",
       "avg_los                               13266896.82\n",
       "fifth_lowest      Miye Oni, Oklahoma City Thunder\n",
       "duplicates                                   True\n",
       "total_highest                           130428103\n",
       "dtype: object"
      ]
     },
     "execution_count": 105,
     "metadata": {},
     "output_type": "execute_result"
    }
   ],
   "source": [
    "salary_stats(salary)"
   ]
  },
  {
   "cell_type": "code",
   "execution_count": 40,
   "metadata": {
    "tags": []
   },
   "outputs": [],
   "source": [
    "# Do not edit this cell -- it is needed for the tests\n",
    "salary_fp = Path('data') / 'salary.csv'\n",
    "salary = pd.read_csv(salary_fp)\n",
    "stats = salary_stats(salary)\n",
    "\n",
    "salary_sample_fp = Path('data') / 'salary_sample.csv'\n",
    "salary_sample = pd.read_csv(salary_sample_fp)\n",
    "sample_stats = salary_stats(salary_sample)"
   ]
  },
  {
   "cell_type": "code",
   "execution_count": 41,
   "metadata": {
    "deletable": false,
    "editable": false
   },
   "outputs": [
    {
     "data": {
      "text/html": [
       "<p><strong><pre style='display: inline;'>q8</pre></strong> passed!</p>"
      ],
      "text/plain": [
       "q8 results: All test cases passed!"
      ]
     },
     "execution_count": 41,
     "metadata": {},
     "output_type": "execute_result"
    }
   ],
   "source": [
    "grader.check(\"q8\")"
   ]
  },
  {
   "cell_type": "markdown",
   "metadata": {},
   "source": []
  },
  {
   "cell_type": "markdown",
   "metadata": {},
   "source": [
    "### Question 9 – Reading Malformed `.csv` Files\n",
    "\n",
    "`data/malformed.csv` is a file of comma-separated values, containing the following fields:\n",
    "\n",
    "\n",
    "|column name|description|type|\n",
    "|---|---|---|\n",
    "|`'first'`|first name of person|`str`|\n",
    "|`'last'`|last name of person|`str`|\n",
    "|`'weight'`|weight of person (lbs)|`float`|\n",
    "|`'height'`|height of person (in)|`float`|\n",
    "|`'geo'`|location of person; comma-separated latitude/longitude|`str`|\n",
    "\n",
    "Unfortunately, the entries contains errors with the placement of commas (`,`) and quotes (`\"`) that cause `pandas`' `read_csv` function to fail parsing the file with the default settings. Don't believe us? Try using `pd.read_csv` on `data/malformed.csv` and look at what happens.\n",
    "\n",
    "As a result, instead of using `pd.read_csv`, you must read in the file manually using Python's built-in `open` function.\n",
    "\n",
    "Complete the implementation of the function `parse_malformed`, which takes in a file path (`fp`) and returns a parsed, properly-typed DataFrame with the information in the corresponding file. For example, `fp` may be `'data/malformed.csv'`. The DataFrame should contain the columns described in the data description table above (with the specified types).\n",
    "\n",
    "***Note:*** \n",
    "- The only kinds of issues you need your function to handle are comma and quote misplacements; don't try and find any other issues with the CSV. \n",
    "- With that said, you should assume that `data/malformed.csv` is a sample of a larger file that has the same sorts of errors, but potentially in different lines. For example, `data/malformed.csv` has an unnecessary quote `\"` in line 4, but your function may be called on another CSV that has a perfectly fine line 4 but an unnecessary quote on some other line.\n",
    "- So, **don't** implement `parse_malformed` assuming that the commas and quotes are mispositioned on specific lines; rather, implement `parse_malformed` such that it can handle these issues on every single line they appear in.\n",
    "- A good way to proceed is to open `data/malformed.csv` and look carefully at the comma and quote placements.\n",
    "\n",
    "\n",
    "The first few rows of `parse_malformed('data/malformed.csv')` should be:\n",
    "\n",
    "<img src=\"./imgs/example-df.png\" width=45%>"
   ]
  },
  {
   "cell_type": "code",
   "execution_count": 65,
   "metadata": {
    "tags": []
   },
   "outputs": [],
   "source": [
    "\n",
    "def parse_malformed(fp):\n",
    "    rows = []\n",
    "    with open(fp) as f:\n",
    "        next(f)  # skip header\n",
    "\n",
    "        for line in f:\n",
    "            line = line.strip().replace('\"', '')  # remove all quotes\n",
    "            if not line:\n",
    "                continue\n",
    "            # split line into parts(a list) using comma\n",
    "            parts = [p.strip() for p in line.split(',') if p.strip()]\n",
    "\n",
    "            # expect 6 parts: first, last, weight, height, geo(lat, lon)\n",
    "            if len(parts) < 6:\n",
    "                continue  # not enough data\n",
    "\n",
    "            try:\n",
    "                first = parts[0]\n",
    "                last = parts[1]\n",
    "                weight = float(parts[2])\n",
    "                height = float(parts[3])\n",
    "                geo = parts[4] + ',' + parts[5]  # combine lat + lon\n",
    "\n",
    "                rows.append({\n",
    "                    'first': first,\n",
    "                    'last': last,\n",
    "                    'weight': weight,\n",
    "                    'height': height,\n",
    "                    'geo': geo\n",
    "                })\n",
    "            except:\n",
    "                continue  # skip any row that can't be parsed\n",
    "\n",
    "    return pd.DataFrame(rows)"
   ]
  },
  {
   "cell_type": "code",
   "execution_count": 66,
   "metadata": {},
   "outputs": [
    {
     "data": {
      "text/html": [
       "<div>\n",
       "<style scoped>\n",
       "    .dataframe tbody tr th:only-of-type {\n",
       "        vertical-align: middle;\n",
       "    }\n",
       "\n",
       "    .dataframe tbody tr th {\n",
       "        vertical-align: top;\n",
       "    }\n",
       "\n",
       "    .dataframe thead th {\n",
       "        text-align: right;\n",
       "    }\n",
       "</style>\n",
       "<table border=\"1\" class=\"dataframe\">\n",
       "  <thead>\n",
       "    <tr style=\"text-align: right;\">\n",
       "      <th></th>\n",
       "      <th>first</th>\n",
       "      <th>last</th>\n",
       "      <th>weight</th>\n",
       "      <th>height</th>\n",
       "      <th>geo</th>\n",
       "    </tr>\n",
       "  </thead>\n",
       "  <tbody>\n",
       "    <tr>\n",
       "      <th>0</th>\n",
       "      <td>Julia</td>\n",
       "      <td>Wagner</td>\n",
       "      <td>142.0</td>\n",
       "      <td>86.0</td>\n",
       "      <td>39.8,15.4</td>\n",
       "    </tr>\n",
       "    <tr>\n",
       "      <th>1</th>\n",
       "      <td>Angelica</td>\n",
       "      <td>Rija</td>\n",
       "      <td>155.0</td>\n",
       "      <td>56.0</td>\n",
       "      <td>38.2,-71.7</td>\n",
       "    </tr>\n",
       "    <tr>\n",
       "      <th>2</th>\n",
       "      <td>Tyler</td>\n",
       "      <td>Micajah</td>\n",
       "      <td>116.0</td>\n",
       "      <td>73.0</td>\n",
       "      <td>38.0,6.9</td>\n",
       "    </tr>\n",
       "    <tr>\n",
       "      <th>3</th>\n",
       "      <td>Kathleen</td>\n",
       "      <td>Nakea</td>\n",
       "      <td>163.0</td>\n",
       "      <td>69.0</td>\n",
       "      <td>36.3,-86.8</td>\n",
       "    </tr>\n",
       "    <tr>\n",
       "      <th>4</th>\n",
       "      <td>Axel</td>\n",
       "      <td>Ronit</td>\n",
       "      <td>95.0</td>\n",
       "      <td>74.0</td>\n",
       "      <td>36.8,128.2</td>\n",
       "    </tr>\n",
       "    <tr>\n",
       "      <th>...</th>\n",
       "      <td>...</td>\n",
       "      <td>...</td>\n",
       "      <td>...</td>\n",
       "      <td>...</td>\n",
       "      <td>...</td>\n",
       "    </tr>\n",
       "    <tr>\n",
       "      <th>95</th>\n",
       "      <td>Yasmeen</td>\n",
       "      <td>Jahron</td>\n",
       "      <td>135.0</td>\n",
       "      <td>84.0</td>\n",
       "      <td>38.3,-127.3</td>\n",
       "    </tr>\n",
       "    <tr>\n",
       "      <th>96</th>\n",
       "      <td>Meghan</td>\n",
       "      <td>Carlyann</td>\n",
       "      <td>101.0</td>\n",
       "      <td>66.0</td>\n",
       "      <td>36.6,80.5</td>\n",
       "    </tr>\n",
       "    <tr>\n",
       "      <th>97</th>\n",
       "      <td>Tess</td>\n",
       "      <td>Shree</td>\n",
       "      <td>146.0</td>\n",
       "      <td>68.0</td>\n",
       "      <td>38.8,64.9</td>\n",
       "    </tr>\n",
       "    <tr>\n",
       "      <th>98</th>\n",
       "      <td>Maria</td>\n",
       "      <td>Kalvyn</td>\n",
       "      <td>115.0</td>\n",
       "      <td>51.0</td>\n",
       "      <td>37.1,-90.4</td>\n",
       "    </tr>\n",
       "    <tr>\n",
       "      <th>99</th>\n",
       "      <td>Lexie</td>\n",
       "      <td>Cheyenna</td>\n",
       "      <td>151.0</td>\n",
       "      <td>71.0</td>\n",
       "      <td>35.9,86.1</td>\n",
       "    </tr>\n",
       "  </tbody>\n",
       "</table>\n",
       "<p>100 rows × 5 columns</p>\n",
       "</div>"
      ],
      "text/plain": [
       "       first      last  weight  height          geo\n",
       "0      Julia    Wagner   142.0    86.0    39.8,15.4\n",
       "1   Angelica      Rija   155.0    56.0   38.2,-71.7\n",
       "2      Tyler   Micajah   116.0    73.0     38.0,6.9\n",
       "3   Kathleen     Nakea   163.0    69.0   36.3,-86.8\n",
       "4       Axel     Ronit    95.0    74.0   36.8,128.2\n",
       "..       ...       ...     ...     ...          ...\n",
       "95   Yasmeen    Jahron   135.0    84.0  38.3,-127.3\n",
       "96    Meghan  Carlyann   101.0    66.0    36.6,80.5\n",
       "97      Tess     Shree   146.0    68.0    38.8,64.9\n",
       "98     Maria    Kalvyn   115.0    51.0   37.1,-90.4\n",
       "99     Lexie  Cheyenna   151.0    71.0    35.9,86.1\n",
       "\n",
       "[100 rows x 5 columns]"
      ]
     },
     "execution_count": 66,
     "metadata": {},
     "output_type": "execute_result"
    }
   ],
   "source": [
    "parse_malformed('data/malformed.csv')"
   ]
  },
  {
   "cell_type": "code",
   "execution_count": 52,
   "metadata": {},
   "outputs": [],
   "source": [
    "sample_data = \"\"\"first,last,weight,height,geo\n",
    "Ryan\",Elleanor,149.0\",68.0,\"37.0,-32.3\"\n",
    "Tyree,Windy,128.0,80.0,36.9,83.6\n",
    "Tori,Adithi,187.0,68.0,35.5,-12.4\n",
    "Donovan,Randa,120.0\",73.0,36.5,28.2\n",
    "Rachel\",Alexiz,145.0,,67.0,\"38.0,36.4\"\n",
    "\"\"\"\n",
    "test_fp = \"sample_malformed.csv\"\n",
    "with open(test_fp, 'w') as f:\n",
    "    f.write(sample_data)"
   ]
  },
  {
   "cell_type": "code",
   "execution_count": 67,
   "metadata": {},
   "outputs": [
    {
     "data": {
      "text/html": [
       "<div>\n",
       "<style scoped>\n",
       "    .dataframe tbody tr th:only-of-type {\n",
       "        vertical-align: middle;\n",
       "    }\n",
       "\n",
       "    .dataframe tbody tr th {\n",
       "        vertical-align: top;\n",
       "    }\n",
       "\n",
       "    .dataframe thead th {\n",
       "        text-align: right;\n",
       "    }\n",
       "</style>\n",
       "<table border=\"1\" class=\"dataframe\">\n",
       "  <thead>\n",
       "    <tr style=\"text-align: right;\">\n",
       "      <th></th>\n",
       "      <th>first</th>\n",
       "      <th>last</th>\n",
       "      <th>weight</th>\n",
       "      <th>height</th>\n",
       "      <th>geo</th>\n",
       "    </tr>\n",
       "  </thead>\n",
       "  <tbody>\n",
       "    <tr>\n",
       "      <th>0</th>\n",
       "      <td>Ryan</td>\n",
       "      <td>Elleanor</td>\n",
       "      <td>149.0</td>\n",
       "      <td>68.0</td>\n",
       "      <td>37.0,-32.3</td>\n",
       "    </tr>\n",
       "    <tr>\n",
       "      <th>1</th>\n",
       "      <td>Tyree</td>\n",
       "      <td>Windy</td>\n",
       "      <td>128.0</td>\n",
       "      <td>80.0</td>\n",
       "      <td>36.9,83.6</td>\n",
       "    </tr>\n",
       "    <tr>\n",
       "      <th>2</th>\n",
       "      <td>Tori</td>\n",
       "      <td>Adithi</td>\n",
       "      <td>187.0</td>\n",
       "      <td>68.0</td>\n",
       "      <td>35.5,-12.4</td>\n",
       "    </tr>\n",
       "    <tr>\n",
       "      <th>3</th>\n",
       "      <td>Donovan</td>\n",
       "      <td>Randa</td>\n",
       "      <td>120.0</td>\n",
       "      <td>73.0</td>\n",
       "      <td>36.5,28.2</td>\n",
       "    </tr>\n",
       "    <tr>\n",
       "      <th>4</th>\n",
       "      <td>Rachel</td>\n",
       "      <td>Alexiz</td>\n",
       "      <td>145.0</td>\n",
       "      <td>67.0</td>\n",
       "      <td>38.0,36.4</td>\n",
       "    </tr>\n",
       "  </tbody>\n",
       "</table>\n",
       "</div>"
      ],
      "text/plain": [
       "     first      last  weight  height         geo\n",
       "0     Ryan  Elleanor   149.0    68.0  37.0,-32.3\n",
       "1    Tyree     Windy   128.0    80.0   36.9,83.6\n",
       "2     Tori    Adithi   187.0    68.0  35.5,-12.4\n",
       "3  Donovan     Randa   120.0    73.0   36.5,28.2\n",
       "4   Rachel    Alexiz   145.0    67.0   38.0,36.4"
      ]
     },
     "execution_count": 67,
     "metadata": {},
     "output_type": "execute_result"
    }
   ],
   "source": [
    "parse_malformed(test_fp)"
   ]
  },
  {
   "cell_type": "code",
   "execution_count": 48,
   "metadata": {
    "tags": []
   },
   "outputs": [],
   "source": [
    "# Do not edit -- needed for tests\n",
    "fp = Path('data') / 'malformed.csv'\n",
    "cols = ['first', 'last', 'weight', 'height', 'geo']\n",
    "df = parse_malformed(fp)\n",
    "dg = pd.read_csv(fp, nrows=4, skiprows=10, names=cols)"
   ]
  },
  {
   "cell_type": "code",
   "execution_count": 49,
   "metadata": {
    "deletable": false,
    "editable": false
   },
   "outputs": [
    {
     "data": {
      "text/html": [
       "<p><strong><pre style='display: inline;'>q9</pre></strong> passed!</p>"
      ],
      "text/plain": [
       "q9 results: All test cases passed!"
      ]
     },
     "execution_count": 49,
     "metadata": {},
     "output_type": "execute_result"
    }
   ],
   "source": [
    "grader.check(\"q9\")"
   ]
  },
  {
   "cell_type": "markdown",
   "metadata": {},
   "source": [
    "## Congratulations! You're done Lab 1! 🏁\n",
    "\n",
    "As a reminder, all of the work you want to submit needs to be in `lab.py`.\n",
    "\n",
    "To ensure that all of the work you want to submit is in `lab.py`, we've included a script named `lab-validation.py` in the lab folder. You shouldn't edit it, but instead, you should call it from the command line (e.g. the Terminal) to test your work.\n",
    "\n",
    "Once you've finished the lab, you should open the command line and run, in the directory for this lab:\n",
    "\n",
    "```\n",
    "python lab-validation.py\n",
    "```\n",
    "\n",
    "**This will run all of the `grader.check` cells that you see in this notebook, but only using the code in `lab.py` – that is, it doesn't look at any of the code in this notebook. If all of your `grader.check` cells pass in this notebook but not all of them pass in your command line with the above command, then you likely have code in your notebook that isn't in your `lab.py`!**\n",
    "\n",
    "You can also use `lab-validation.py` to test individual questions. For instance,\n",
    "\n",
    "```\n",
    "python lab-validation.py q1 q4 q7 q8\n",
    "```\n",
    "\n",
    "will run the `grader.check` cells for Questions 1, 4, 7, and 8 – again, only using the code in `lab.py`. The [video](#Infrastructure-Summary) linked above shows you how to use the script as well.\n",
    "\n",
    "Once `python lab-validation.py` shows that you're passing all test cases, you're ready to submit your `lab.py` (and only your `lab.py`) to Gradescope. Once submitting to Gradescope, make sure to stick around until all test cases pass.\n",
    "\n",
    "There is also a call to `grader.check_all()` below in _this_ notebook, but make sure to also follow the steps above."
   ]
  },
  {
   "cell_type": "markdown",
   "metadata": {
    "deletable": false,
    "editable": false
   },
   "source": [
    "---\n",
    "\n",
    "To double-check your work, the cell below will rerun all of the autograder tests."
   ]
  },
  {
   "cell_type": "code",
   "execution_count": null,
   "metadata": {
    "deletable": false,
    "editable": false
   },
   "outputs": [],
   "source": [
    "grader.check_all()"
   ]
  }
 ],
 "metadata": {
  "kernel_info": {
   "name": "python3"
  },
  "kernelspec": {
   "display_name": "dsc80",
   "language": "python",
   "name": "python3"
  },
  "language_info": {
   "codemirror_mode": {
    "name": "ipython",
    "version": 3
   },
   "file_extension": ".py",
   "mimetype": "text/x-python",
   "name": "python",
   "nbconvert_exporter": "python",
   "pygments_lexer": "ipython3",
   "version": "3.12.10"
  },
  "nteract": {
   "version": "0.15.0"
  },
  "otter": {
   "tests": {
    "q0": {
     "name": "q0",
     "points": 0,
     "suites": [
      {
       "cases": [
        {
         "code": ">>> consecutive_ints([5, 3, 6, 4, 9, 8])\nTrue",
         "hidden": false,
         "locked": false,
         "points": 0
        },
        {
         "code": ">>> consecutive_ints([1, 3, 5, 7, 9]) == False\nTrue",
         "hidden": false,
         "locked": false,
         "points": 0
        },
        {
         "code": ">>> consecutive_ints([]) == False\nTrue",
         "hidden": false,
         "locked": false,
         "points": 0
        }
       ],
       "scored": true,
       "setup": "",
       "teardown": "",
       "type": "doctest"
      }
     ]
    },
    "q1": {
     "name": "q1",
     "points": null,
     "suites": [
      {
       "cases": [
        {
         "code": ">>> median_vs_mean([6, 5, 4, 3, 2])\nTrue",
         "hidden": false,
         "locked": false,
         "points": 1
        },
        {
         "code": ">>> median_vs_mean([50, 20, 15, 40])\nTrue",
         "hidden": false,
         "locked": false,
         "points": 1
        },
        {
         "code": ">>> median_vs_mean([1, 8, 9]) == False\nTrue",
         "hidden": false,
         "locked": false,
         "points": 1
        }
       ],
       "scored": true,
       "setup": "",
       "teardown": "",
       "type": "doctest"
      }
     ]
    },
    "q2": {
     "name": "q2",
     "points": null,
     "suites": [
      {
       "cases": [
        {
         "code": ">>> n_prefixes('Billy', 4) == 'BillBilBiB'\nTrue",
         "hidden": false,
         "locked": false,
         "points": 1
        },
        {
         "code": ">>> n_prefixes('Marina', 3) == 'MarMaM'\nTrue",
         "hidden": false,
         "locked": false,
         "points": 1
        },
        {
         "code": ">>> n_prefixes('aaron', 2) == 'aaa'\nTrue",
         "hidden": false,
         "locked": false,
         "points": 1
        },
        {
         "code": ">>> n_prefixes('Justin', 5) == 'JustiJustJusJuJ'\nTrue",
         "hidden": false,
         "locked": false,
         "points": 1
        }
       ],
       "scored": true,
       "setup": "",
       "teardown": "",
       "type": "doctest"
      }
     ]
    },
    "q3": {
     "name": "q3",
     "points": null,
     "suites": [
      {
       "cases": [
        {
         "code": ">>> exploded_numbers([3, 8, 15], 2) == ['01 02 03 04 05', '06 07 08 09 10', '13 14 15 16 17']\nTrue",
         "hidden": false,
         "locked": false,
         "points": 1
        },
        {
         "code": ">>> exploded_numbers([9, 99], 3) == ['006 007 008 009 010 011 012', '096 097 098 099 100 101 102']\nTrue",
         "hidden": false,
         "locked": false,
         "points": 1
        }
       ],
       "scored": true,
       "setup": "",
       "teardown": "",
       "type": "doctest"
      }
     ]
    },
    "q4": {
     "name": "q4",
     "points": null,
     "suites": [
      {
       "cases": [
        {
         "code": ">>> fp = Path('data') / 'chars.txt'\n>>> last_chars(open(fp)) == 'hrg'\nTrue",
         "hidden": false,
         "locked": false,
         "points": 1
        }
       ],
       "scored": true,
       "setup": "",
       "teardown": "",
       "type": "doctest"
      }
     ]
    },
    "q5": {
     "name": "q5",
     "points": null,
     "suites": [
      {
       "cases": [
        {
         "code": ">>> isinstance(out_1, np.ndarray)\nTrue",
         "hidden": false,
         "locked": false,
         "points": 1
        },
        {
         "code": ">>> bool(np.all(out_1 >= A_1))\nTrue",
         "hidden": false,
         "locked": false,
         "points": 1
        },
        {
         "code": ">>> bool(np.isclose(out_1[3], 7 + np.sqrt(3)))\nTrue",
         "hidden": false,
         "locked": false,
         "points": 1
        },
        {
         "code": ">>> isinstance(out_2, np.ndarray)\nTrue",
         "hidden": false,
         "locked": false,
         "points": 1
        },
        {
         "code": ">>> out_2.dtype == np.dtype('bool')\nTrue",
         "hidden": false,
         "locked": false,
         "points": 1
        },
        {
         "code": ">>> bool(out_2[2])\nTrue",
         "hidden": false,
         "locked": false,
         "points": 1
        }
       ],
       "scored": true,
       "setup": "",
       "teardown": "",
       "type": "doctest"
      }
     ]
    },
    "q6": {
     "name": "q6",
     "points": null,
     "suites": [
      {
       "cases": [
        {
         "code": ">>> a = np.array([[1,-2, 3,-3], [0, 1, 3, 6]])\n>>> len(filter_cutoff_loop(a, 1).shape)==2\nTrue",
         "failure_message": "should return a 2-dimensional numpy array",
         "hidden": false,
         "locked": false,
         "points": 1
        },
        {
         "code": ">>> a = np.array([[1,-2, 3,-3], [0, 1, 3, 6]])\n>>> isinstance(filter_cutoff_loop(a, 1), np.ndarray)\nTrue",
         "failure_message": "the data type returned should be a numpy array",
         "hidden": false,
         "locked": false,
         "points": 1
        }
       ],
       "scored": true,
       "setup": "",
       "teardown": "",
       "type": "doctest"
      }
     ]
    },
    "q6.2": {
     "name": "q6.2",
     "points": null,
     "suites": [
      {
       "cases": [
        {
         "code": ">>> a = np.array([[1,-2, 3,-3], [0, 1, 3, 6]])\n>>> len(filter_cutoff_np(a, 1).shape)==2\nTrue",
         "failure_message": "should return a 2-dimensional numpy array",
         "hidden": false,
         "locked": false,
         "points": 1
        },
        {
         "code": ">>> a = np.array([[1,-2, 3,-3], [0, 1, 3, 6]])\n>>> isinstance(filter_cutoff_np(a, 1), np.ndarray)\nTrue",
         "failure_message": "the data type returned should be a numpy array",
         "hidden": false,
         "locked": false,
         "points": 1
        }
       ],
       "scored": true,
       "setup": "",
       "teardown": "",
       "type": "doctest"
      }
     ]
    },
    "q7": {
     "name": "q7",
     "points": null,
     "suites": [
      {
       "cases": [
        {
         "code": ">>> out_3_stocks.dtype == np.dtype('float')\nTrue",
         "hidden": false,
         "locked": false,
         "points": 1
        },
        {
         "code": ">>> bool(out_3_stocks.max() == 0.03)\nTrue",
         "hidden": false,
         "locked": false,
         "points": 1
        },
        {
         "code": ">>> import numbers\n>>> isinstance(out_4, numbers.Integral)\nTrue",
         "hidden": false,
         "locked": false,
         "points": 1
        },
        {
         "code": ">>> bool(out_4 == 1)\nTrue",
         "hidden": false,
         "locked": false,
         "points": 1
        }
       ],
       "scored": true,
       "setup": "",
       "teardown": "",
       "type": "doctest"
      }
     ]
    },
    "q8": {
     "name": "q8",
     "points": null,
     "suites": [
      {
       "cases": [
        {
         "code": ">>> isinstance(stats, pd.Series)\nTrue",
         "hidden": false,
         "locked": false,
         "points": 1
        },
        {
         "code": ">>> 'total_highest' in stats.index\nTrue",
         "hidden": false,
         "locked": false,
         "points": 1
        },
        {
         "code": ">>> isinstance(stats.loc['duplicates'], bool) or isinstance(stats.loc['duplicates'], np.bool_)\nTrue",
         "hidden": false,
         "locked": false,
         "points": 1
        }
       ],
       "scored": true,
       "setup": "",
       "teardown": "",
       "type": "doctest"
      }
     ]
    },
    "q9": {
     "name": "q9",
     "points": null,
     "suites": [
      {
       "cases": [
        {
         "code": ">>> list(df.columns) == cols\nTrue",
         "hidden": false,
         "locked": false,
         "points": 1
        },
        {
         "code": ">>> df['last'].dtype == np.dtype('O')\nTrue",
         "hidden": false,
         "locked": false,
         "points": 1
        },
        {
         "code": ">>> df['height'].dtype == np.dtype('float64')\nTrue",
         "hidden": false,
         "locked": false,
         "points": 1
        },
        {
         "code": ">>> bool(df['geo'].str.contains(',').all())\nTrue",
         "hidden": false,
         "locked": false,
         "points": 1
        },
        {
         "code": ">>> len(df) == 100\nTrue",
         "hidden": false,
         "locked": false,
         "points": 1
        },
        {
         "code": ">>> dg.index = range(9, 13)\n>>> bool((dg == df.iloc[9:13]).all().all())\nTrue",
         "failure_message": "doctest examples",
         "hidden": false,
         "locked": false,
         "points": 6
        }
       ],
       "scored": true,
       "setup": "",
       "teardown": "",
       "type": "doctest"
      }
     ]
    }
   }
  }
 },
 "nbformat": 4,
 "nbformat_minor": 4
}
